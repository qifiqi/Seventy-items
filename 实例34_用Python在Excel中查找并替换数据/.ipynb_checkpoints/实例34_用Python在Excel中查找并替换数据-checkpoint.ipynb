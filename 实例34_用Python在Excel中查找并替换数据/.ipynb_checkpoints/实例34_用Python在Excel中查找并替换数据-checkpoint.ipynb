{
 "cells": [
  {
   "cell_type": "markdown",
   "metadata": {},
   "source": [
    "随着项目的进展，需要经常在Excel业务表格中查找及替换数据，已保证数据与实际项目进度一致。手动一个一个查找，然后替换，效率太低，还容易遗漏。现在我们来试试用Python自动完成查找及替换吧。具体要求如下。\n",
    "![](images\\requirement.png)"
   ]
  },
  {
   "cell_type": "markdown",
   "metadata": {},
   "source": [
    "首先，我们先将左边表格中的数据提取，并存入字典`data`，其键为“查找内容”中的数据，值为“替换内容”中的数据。"
   ]
  },
  {
   "cell_type": "code",
   "execution_count": 1,
   "metadata": {},
   "outputs": [],
   "source": [
    "from openpyxl import load_workbook #用于读取Excel中的信息\n",
    "#获取Excel表格中的数据\n",
    "wb = load_workbook('查找替换.xlsx')#读取工作簿\n",
    "ws = wb.active #读取活动工作表\n",
    "data={} #新建字典，用于储存数据\n",
    "\n",
    "for row in range(2,ws.max_row+1):\n",
    "    chazhao = str(ws['A' + str(row)].value)  #转换成字符串，以免后续比对时出现数据类型冲突\n",
    "    tihuan = str(ws['B' + str(row)].value) #转换成字符串，以免后续比对时出现数据类型冲突\n",
    "    data[chazhao]=tihuan #键值对应存入字典"
   ]
  },
  {
   "cell_type": "code",
   "execution_count": 2,
   "metadata": {
    "scrolled": false
   },
   "outputs": [
    {
     "data": {
      "text/plain": [
       "{'77603': '703',\n",
       " '70076': '704',\n",
       " '70066': '701',\n",
       " '77606': '707',\n",
       " '70103': '770',\n",
       " '70607': '706'}"
      ]
     },
     "execution_count": 2,
     "metadata": {},
     "output_type": "execute_result"
    }
   ],
   "source": [
    "data"
   ]
  },
  {
   "cell_type": "markdown",
   "metadata": {},
   "source": [
    "然后，读取目标表格，将D列中的所有数据提取出来，以便后续比对及替换。通过`for`循环遍历“原表”，将D列每个单元格的值提取并存入`ID_list`。然后通过切片`ID_list[:10]`查看前10个数据是否OK。结果显示相当正常。"
   ]
  },
  {
   "cell_type": "code",
   "execution_count": 3,
   "metadata": {
    "scrolled": true
   },
   "outputs": [
    {
     "data": {
      "text/plain": [
       "['说明码：77601',\n",
       " '',\n",
       " '说明码：77601',\n",
       " '',\n",
       " '',\n",
       " '说明码：707',\n",
       " '',\n",
       " '',\n",
       " '说明码：70106',\n",
       " '说明码：70106']"
      ]
     },
     "execution_count": 3,
     "metadata": {},
     "output_type": "execute_result"
    }
   ],
   "source": [
    "wb = load_workbook('原表.xlsx') #读取目标工作簿\n",
    "ws = wb.active\n",
    "ID_list = [] #新建一个列表，用于储存原表D列的信息\n",
    "for row in range(2,ws.max_row+1):\n",
    "    ID = ws['D' + str(row)].value #遍历整个工作表，将D列的数据逐个存入ID变量\n",
    "    ID_list.append(ID) #将读取到的结果存入列表\n",
    "ID_list[:10] #查看列表中前10个数据"
   ]
  },
  {
   "cell_type": "code",
   "execution_count": 9,
   "metadata": {},
   "outputs": [
    {
     "data": {
      "text/plain": [
       "str"
      ]
     },
     "execution_count": 9,
     "metadata": {},
     "output_type": "execute_result"
    }
   ],
   "source": [
    "type(\"\")"
   ]
  },
  {
   "cell_type": "markdown",
   "metadata": {},
   "source": [
    "为了比对数据，我们需要将`'说明码：77601'`中的“说明码：”字符拿掉，只保留“77601”。于是调用`split`函数来进行分割，并将分割好的数字部分存入新建的列表`code`。不好，居然报错了，说`ID_list`列表中有\"None\"（空）类型的数据，而\"None\"类型的数据是不能使用`split`函数的。目测了一下，`ID_list`列表中除了`'说明码：77601'`和`''`这样的空字符串，没看到None啊。再回来“原表”侦察一下，发现最下面还有一些单元格很有嫌疑。原来是表尾有一些“供应商”和仓位信息，这些信息所在位置对应的D列都是空单元格，其值为\"None\"。用`ID_list[-10:]`查看最后10个元素，果然都是\"None\"。\n",
    "![](images\\error.png)"
   ]
  },
  {
   "cell_type": "code",
   "execution_count": 5,
   "metadata": {},
   "outputs": [
    {
     "ename": "AttributeError",
     "evalue": "'NoneType' object has no attribute 'split'",
     "output_type": "error",
     "traceback": [
      "\u001b[1;31m---------------------------------------------------------------------------\u001b[0m",
      "\u001b[1;31mAttributeError\u001b[0m                            Traceback (most recent call last)",
      "\u001b[1;32m<ipython-input-5-1571e02ca636>\u001b[0m in \u001b[0;36m<module>\u001b[1;34m\u001b[0m\n\u001b[1;32m----> 1\u001b[1;33m \u001b[0mcode\u001b[0m \u001b[1;33m=\u001b[0m \u001b[1;33m[\u001b[0m\u001b[0mi\u001b[0m\u001b[1;33m.\u001b[0m\u001b[0msplit\u001b[0m\u001b[1;33m(\u001b[0m\u001b[1;34m\"：\"\u001b[0m\u001b[1;33m)\u001b[0m\u001b[1;33m[\u001b[0m\u001b[1;33m-\u001b[0m\u001b[1;36m1\u001b[0m\u001b[1;33m]\u001b[0m \u001b[1;32mfor\u001b[0m \u001b[0mi\u001b[0m \u001b[1;32min\u001b[0m \u001b[0mID_list\u001b[0m\u001b[1;33m]\u001b[0m\u001b[1;33m\u001b[0m\u001b[0m\n\u001b[0m\u001b[0;32m      2\u001b[0m \u001b[0mcode\u001b[0m\u001b[1;33m\u001b[0m\u001b[0m\n",
      "\u001b[1;32m<ipython-input-5-1571e02ca636>\u001b[0m in \u001b[0;36m<listcomp>\u001b[1;34m(.0)\u001b[0m\n\u001b[1;32m----> 1\u001b[1;33m \u001b[0mcode\u001b[0m \u001b[1;33m=\u001b[0m \u001b[1;33m[\u001b[0m\u001b[0mi\u001b[0m\u001b[1;33m.\u001b[0m\u001b[0msplit\u001b[0m\u001b[1;33m(\u001b[0m\u001b[1;34m\"：\"\u001b[0m\u001b[1;33m)\u001b[0m\u001b[1;33m[\u001b[0m\u001b[1;33m-\u001b[0m\u001b[1;36m1\u001b[0m\u001b[1;33m]\u001b[0m \u001b[1;32mfor\u001b[0m \u001b[0mi\u001b[0m \u001b[1;32min\u001b[0m \u001b[0mID_list\u001b[0m\u001b[1;33m]\u001b[0m\u001b[1;33m\u001b[0m\u001b[0m\n\u001b[0m\u001b[0;32m      2\u001b[0m \u001b[0mcode\u001b[0m\u001b[1;33m\u001b[0m\u001b[0m\n",
      "\u001b[1;31mAttributeError\u001b[0m: 'NoneType' object has no attribute 'split'"
     ]
    }
   ],
   "source": [
    "code = [i.split(\"：\")[-1] for i in ID_list]\n",
    "code"
   ]
  },
  {
   "cell_type": "code",
   "execution_count": 7,
   "metadata": {},
   "outputs": [
    {
     "data": {
      "text/plain": [
       "[None, None, None, None, None, None, None, None, None, None]"
      ]
     },
     "execution_count": 7,
     "metadata": {},
     "output_type": "execute_result"
    }
   ],
   "source": [
    "ID_list[-10:]"
   ]
  },
  {
   "cell_type": "markdown",
   "metadata": {},
   "source": [
    "这样，我们就知道`ID_list`中有三种数据，即含内容的字符串（比如'说明码：77601'），空字符串（比如''）和空值None。因此，需要修改一下字符串分割代码如下。加入了`if`判断语句，如果`ID_list`中的值是None，则放入None占位，以保持列表的值的顺序与原表一致；值不是None，则按\"：\"符号分割，并放分割后的最后一个值`[-1]`进入新列表code。空字符串在这里也要经过`split`分割，但其中没有“：”符号，所以就分割不了，只得直接跳过，最后放入新列表的还是空字符串。"
   ]
  },
  {
   "cell_type": "code",
   "execution_count": 14,
   "metadata": {},
   "outputs": [
    {
     "data": {
      "text/plain": [
       "['77601', '', '77601', '', '', '707', '', '', '70106', '70106']"
      ]
     },
     "execution_count": 14,
     "metadata": {},
     "output_type": "execute_result"
    }
   ],
   "source": [
    "code = []\n",
    "for i in ID_list:\n",
    "    if i == None:# 如果是None，则放入None占位，以保持列表的值的顺序与原表一致\n",
    "        code.append(None)\n",
    "    else:\n",
    "        code.append(i.split(\"：\")[-1]) #不是None,则按\"：\"符号分割，并放分割后的最后一个值进入新列表code\n",
    "code[:10]"
   ]
  },
  {
   "cell_type": "markdown",
   "metadata": {},
   "source": [
    "处理完数据后，即可开始查找并替换目标数据了。用`for`循环遍历列表`code`，即原表D列中的数字部分。如果其中的值也存在于data的键中，即语句`if code[i] in data`，则将原表中D列(`column=4`)对应的行中的数据改写成新的值。新的值由两部分组成，一部分是“说明码：”这样的，即`ID_list[i].split(\"：\")[0]`，另一部分则是要替换的数字，即`data[code[i]]`。这样保证只替换了需要替换的数字部分，而保留中文和冒号部分。最后保存为新的文件，替换完成。"
   ]
  },
  {
   "cell_type": "code",
   "execution_count": 16,
   "metadata": {},
   "outputs": [],
   "source": [
    "for i in range(len(code)):\n",
    "    if code[i] in data:\n",
    "        ws.cell(row=i+2,column=4).value = ID_list[i].split(\"：\")[0] +\"：\"+ data[code[i]]\n",
    "wb.save('原表-替换.xlsx') "
   ]
  },
  {
   "cell_type": "markdown",
   "metadata": {},
   "source": [
    "如果以上不能通过观察原表，发现空值问题，还可以用`enumerate`函数给列表里的所有元素加上索引，以便精确定位`ID_list`中的空值。加上索引后，在转换成列表，并存入新的列表`ID_list_idx`中。观察其中前10个数据，可见索引已加好了。然后遍历新列表，判断其中的值是否为空值，若是则打印其对应的索引编号，这样就能精准定位哪些是空值了，再回到原Excel表，就容易弄清楚发生了什么事啦。其中，新列表中的元素的结构是一个元组，像这样`(2, '说明码：77601')`，`i[0]`是索引`2`，`i[1]`是索引对应的值`说明码：77601`。"
   ]
  },
  {
   "cell_type": "code",
   "execution_count": 17,
   "metadata": {
    "scrolled": false
   },
   "outputs": [
    {
     "data": {
      "text/plain": [
       "[(0, '说明码：77601'),\n",
       " (1, ''),\n",
       " (2, '说明码：77601'),\n",
       " (3, ''),\n",
       " (4, ''),\n",
       " (5, '说明码：707'),\n",
       " (6, ''),\n",
       " (7, ''),\n",
       " (8, '说明码：70106'),\n",
       " (9, '说明码：70106')]"
      ]
     },
     "execution_count": 17,
     "metadata": {},
     "output_type": "execute_result"
    }
   ],
   "source": [
    "ID_list_idx = list(enumerate(ID_list)) #加索引\n",
    "ID_list_idx[:10]"
   ]
  },
  {
   "cell_type": "code",
   "execution_count": 25,
   "metadata": {
    "collapsed": true
   },
   "outputs": [
    {
     "name": "stdout",
     "output_type": "stream",
     "text": [
      "4008\n",
      "4009\n",
      "4010\n",
      "4011\n",
      "4012\n",
      "4013\n",
      "4014\n",
      "4015\n",
      "4016\n",
      "4017\n",
      "4018\n",
      "4019\n",
      "4020\n",
      "4021\n",
      "4022\n",
      "4023\n",
      "4024\n",
      "4025\n",
      "4026\n",
      "4027\n",
      "4028\n",
      "4029\n",
      "4030\n",
      "4031\n",
      "4032\n",
      "4033\n",
      "4034\n",
      "4035\n",
      "4036\n",
      "4037\n",
      "4038\n",
      "4039\n",
      "4040\n",
      "4041\n",
      "4042\n",
      "4043\n",
      "4044\n",
      "4045\n",
      "4046\n",
      "4047\n",
      "4048\n",
      "4049\n",
      "4050\n",
      "4051\n",
      "4052\n",
      "4053\n",
      "4054\n",
      "4055\n",
      "4056\n",
      "4057\n",
      "4058\n",
      "4059\n",
      "4060\n",
      "4061\n",
      "4062\n",
      "4063\n",
      "4064\n",
      "4065\n",
      "4066\n",
      "4067\n",
      "4068\n",
      "4069\n",
      "4070\n",
      "4071\n",
      "4072\n",
      "4073\n",
      "4074\n",
      "4075\n",
      "4076\n",
      "4077\n",
      "4078\n",
      "4079\n",
      "4080\n",
      "4081\n",
      "4082\n",
      "4083\n",
      "4084\n",
      "4085\n",
      "4086\n",
      "4087\n",
      "4088\n",
      "4089\n",
      "4090\n",
      "4091\n",
      "4092\n",
      "4093\n",
      "4094\n",
      "4095\n",
      "4096\n",
      "4097\n",
      "4098\n",
      "4099\n",
      "4100\n"
     ]
    }
   ],
   "source": [
    "for i in ID_list_idx: #遍历列表\n",
    "    if i[1] == None: #判断索引对应的值是否为空值。i的结构是一个元组，像这样(2, '说明码：77601')，i[0]是索引，i[1]是索引对应的值\n",
    "        print(i[0]) #打印索引编号"
   ]
  }
 ],
 "metadata": {
  "kernelspec": {
   "display_name": "Python 3",
   "language": "python",
   "name": "python3"
  },
  "language_info": {
   "codemirror_mode": {
    "name": "ipython",
    "version": 3
   },
   "file_extension": ".py",
   "mimetype": "text/x-python",
   "name": "python",
   "nbconvert_exporter": "python",
   "pygments_lexer": "ipython3",
   "version": "3.6.5"
  }
 },
 "nbformat": 4,
 "nbformat_minor": 2
}
