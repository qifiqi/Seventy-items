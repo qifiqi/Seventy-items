{
 "cells": [
  {
   "cell_type": "markdown",
   "metadata": {},
   "source": [
    "话说在实例32中，图片被强行设定了高度和宽度后，会变形。这个例子我们追求完美，决心实现完美添加图片。要实现完美，那得满足几个要求：\n",
    "1. 图片被改变大小后，比例保持不变（这样就不会变形了）\n",
    "2. 图片需要压缩，避免填图后的word文件太大\n",
    "\n",
    "通过`Image`模块中的`resize`函数，就能给解决如上问题。我们还是先按“修改时间”顺序获取图片文件夹下的所有图片的完整路径。"
   ]
  },
  {
   "cell_type": "code",
   "execution_count": 88,
   "metadata": {},
   "outputs": [],
   "source": [
    "#将图片按修改时间排序(这样才能与图片的描述一致)，将路径存入列表，以便后面逐个插入图片时调用\n",
    "import  os\n",
    "path = \"6s_pictures\"\n",
    "list_p = [path+\"\\\\\"+i for i in os.listdir(path)] #获取图片的文件名,并拼接完整路径\n",
    "list_p.sort(key=lambda path: os.path.getmtime(path)) #将列表中的文件按其修改时间排序，os.path.getmtime() 函数是获取文件最后修改时间"
   ]
  },
  {
   "cell_type": "code",
   "execution_count": 89,
   "metadata": {
    "scrolled": false
   },
   "outputs": [
    {
     "data": {
      "text/plain": [
       "['6s_pictures\\\\z.jpg',\n",
       " '6s_pictures\\\\x.jpg',\n",
       " '6s_pictures\\\\w.jpg',\n",
       " '6s_pictures\\\\y.jpg',\n",
       " '6s_pictures\\\\orange-flowers-2471898.jpg',\n",
       " '6s_pictures\\\\lime-631389.jpg',\n",
       " '6s_pictures\\\\v.jpg',\n",
       " '6s_pictures\\\\lime-1269982.jpg',\n",
       " '6s_pictures\\\\fruit-3220991.jpg',\n",
       " '6s_pictures\\\\fruit-2428967.jpg',\n",
       " '6s_pictures\\\\carnations-of-india-2471877.jpg',\n",
       " '6s_pictures\\\\70ddfeda5e3b2e355d57b7b4b0591609.jpg',\n",
       " '6s_pictures\\\\u.jpg',\n",
       " '6s_pictures\\\\apple-2106041.jpg',\n",
       " '6s_pictures\\\\fruit-3134765.jpg']"
      ]
     },
     "execution_count": 89,
     "metadata": {},
     "output_type": "execute_result"
    }
   ],
   "source": [
    "list_p"
   ]
  },
  {
   "cell_type": "markdown",
   "metadata": {},
   "source": [
    "然后导入Image模块。`for`循环遍历所有图片的路径，然后读取图片尺寸，x对应宽度，y对应高度。这里的单位是像素。压缩图片的关键参数是压缩后的标准宽度`x_s`，我们Word模板中放置图片的单元格宽度为6.25厘米。压缩后的图片分辨率是96，像素为230的时候，对应长度是6.1厘米。以上换算可参考链接https://www.gaitubao.com/tools/pixel2cm.html 。但是按230像素的宽度压缩后，自动填充到Word文档中后，图片宽度变成了8厘米，已经超过单元格的宽度了。通过调试，最终将标准宽度设定为165像素，填入word中后，宽度是5.82厘米，比较适合单元格宽度。这个差异可能是换算的不精确导致。确定好标准宽度`x_s`后，高度`y_s`按照标准宽度乘上原始高宽比来确定，这样就是保持比例压缩，不会导致图片变形。压缩`resize`后，再保存到新的文件夹。"
   ]
  },
  {
   "cell_type": "code",
   "execution_count": 90,
   "metadata": {},
   "outputs": [],
   "source": [
    "#按比例缩小图片尺寸\n",
    "from PIL import Image\n",
    " \n",
    "for infile in list_p:\n",
    "    im = Image.open(infile)\n",
    "    (x,y) = im.size #读取图片尺寸（像素）\n",
    "    x_s = 165 #定义缩小后的标准宽度 \n",
    "    y_s = int(y * x_s / x) #基于标准宽度计算缩小后的高度\n",
    "    out = im.resize((x_s,y_s),Image.ANTIALIAS) #改变尺寸，保持图片高品质\n",
    "    out.save('6s_pictures_new\\\\{}'.format(infile.split(\"\\\\\")[-1]))"
   ]
  },
  {
   "cell_type": "markdown",
   "metadata": {},
   "source": [
    "然后从新的文件夹提取图片，填入word表格。"
   ]
  },
  {
   "cell_type": "code",
   "execution_count": 91,
   "metadata": {
    "scrolled": true
   },
   "outputs": [],
   "source": [
    "from docx import Document\n",
    "doc = Document(\"6S稽查问题模板.docx\")\n",
    "\n",
    "import  os\n",
    "path = \"6s_pictures_new\"\n",
    "list_p = [path+\"\\\\\"+i for i in os.listdir(path)] #获取图片的文件名,并拼接完整路径\n",
    "list_p.sort(key=lambda path: os.path.getmtime(path)) #将列表中的文件按其修改时间排序，os.path.getmtime() 函数是获取文件最后修改时间\n",
    "\n",
    "table = doc.tables[0] #已确定是第一个表格，其索引是0\n",
    "\n",
    "#增加需要的行，以便足够填入数据\n",
    "for i in range(len(data)-1):\n",
    "    table.add_row()\n",
    "\n",
    "#写入数据及图片\n",
    "for row in range(1,len(data)+1):   \n",
    "    #插入图片\n",
    "    run = table.cell(row,2).paragraphs[0].add_run() #新增一个文字块\n",
    "    picture = run.add_picture(list_p[row-1]) #插入图片\n",
    "\n",
    "\n",
    "doc.save(\"6S稽查问题.docx\")"
   ]
  },
  {
   "cell_type": "markdown",
   "metadata": {},
   "source": [
    "结果如下，可见图片的宽度全部是固定的，高度根据单元格自动调整，这样就保持了word文档模板中设定的宽度，不至于变形。而且整个文档只有90KB，身轻如燕。\n",
    "![](images\\result.png)"
   ]
  },
  {
   "cell_type": "code",
   "execution_count": null,
   "metadata": {},
   "outputs": [],
   "source": []
  }
 ],
 "metadata": {
  "kernelspec": {
   "display_name": "Python 3",
   "language": "python",
   "name": "python3"
  },
  "language_info": {
   "codemirror_mode": {
    "name": "ipython",
    "version": 3
   },
   "file_extension": ".py",
   "mimetype": "text/x-python",
   "name": "python",
   "nbconvert_exporter": "python",
   "pygments_lexer": "ipython3",
   "version": "3.6.5"
  }
 },
 "nbformat": 4,
 "nbformat_minor": 2
}
