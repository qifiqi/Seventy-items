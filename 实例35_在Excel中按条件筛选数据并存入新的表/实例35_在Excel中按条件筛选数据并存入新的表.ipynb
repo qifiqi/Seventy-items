{
 "cells": [
  {
   "cell_type": "markdown",
   "metadata": {},
   "source": [
    "老板想要看去年每月领料数量大于1000的数据。手动筛选并复制粘贴出来，需要重复操作12次，实在太麻烦了，还是让Python来做吧。磨刀不误砍柴工，先整理一下思路：\n",
    "1. 读取原表，将数量大于1000的数据所对应的行整行提取（如同在excel表中按数字筛选大于1000的）\n",
    "2. 将提取的数据写入新的Excel表\n",
    "![](images\\problem.png)"
   ]
  },
  {
   "cell_type": "code",
   "execution_count": 1,
   "metadata": {},
   "outputs": [],
   "source": [
    "#1.获取满足条件的数据\n",
    "from openpyxl import load_workbook\n",
    "wb = load_workbook(\"每月物料表.xlsx\")\n",
    "data = {} #储存所有工作表中满足条件的数据，以工作表名称为键\n",
    "sheet_names = wb.sheetnames\n",
    "for sheet_name in sheet_names:\n",
    "    ws = wb[sheet_name]\n",
    "    qty_list = []\n",
    "    #获取G列的数据，并用enumrate给其对应的元素编号\n",
    "    for row in range(2,ws.max_row+1):\n",
    "        qty = ws['G'+str(row)].value\n",
    "        qty_list.append(qty)\n",
    "\n",
    "    qty_idx = list(enumerate(qty_list)) #用于编号\n",
    "    \n",
    "    #判断数据是否大于1000，然后返回大于1000的数据所对应的行数\n",
    "    row_idx = [] #用于储存数量大于1000所对应的的行号\n",
    "    for i in range(len(qty_idx)):\n",
    "        if qty_idx[i][1] > 1000:\n",
    "            row_idx.append(qty_idx[i][0]+2)\n",
    "\n",
    "    #获取满足条件的数据        \n",
    "    data_morethan1K = []\n",
    "    for i in row_idx:\n",
    "        data_morethan1K.append(ws['A'+str(i)+\":\"+'I'+str(i)])\n",
    "        \n",
    "    data[sheet_name]=data_morethan1K "
   ]
  },
  {
   "cell_type": "markdown",
   "metadata": {},
   "source": [
    "以上，我们把满足条件的12个月的数据提取并存入字典`data`，其键为对应的月份，比如“1月”，值就是满足条件的各行的数据。我们把“每月物料表”的G列对应的数据提取，存入列表`qty_list`，其中前10个数据是如下这样的。"
   ]
  },
  {
   "cell_type": "code",
   "execution_count": 2,
   "metadata": {},
   "outputs": [
    {
     "data": {
      "text/plain": [
       "[8, 72, 72, 8, 16, 93, 56, 63, 80, 30]"
      ]
     },
     "execution_count": 2,
     "metadata": {},
     "output_type": "execute_result"
    }
   ],
   "source": [
    "qty_list[:10]"
   ]
  },
  {
   "cell_type": "markdown",
   "metadata": {},
   "source": [
    "然后需要使用`enumerate`函数给这个列表的数据加上索引，以便在跟1000比大小的时候定位满足条件的那些数据的对应在Excel表中的行数。加上索引之后的列表是如下这样的，索引从0开始累加。"
   ]
  },
  {
   "cell_type": "code",
   "execution_count": 3,
   "metadata": {
    "scrolled": true
   },
   "outputs": [
    {
     "data": {
      "text/plain": [
       "[(0, 8),\n",
       " (1, 72),\n",
       " (2, 72),\n",
       " (3, 8),\n",
       " (4, 16),\n",
       " (5, 93),\n",
       " (6, 56),\n",
       " (7, 63),\n",
       " (8, 80),\n",
       " (9, 30)]"
      ]
     },
     "execution_count": 3,
     "metadata": {},
     "output_type": "execute_result"
    }
   ],
   "source": [
    "qty_idx[:10]"
   ]
  },
  {
   "cell_type": "markdown",
   "metadata": {},
   "source": [
    "然后，再新建一个列表`row_idx`，用于储存“领料数量”大于1000的数据所对应的行号。此处用到`if`语句进行判断，只将“领料数量”大于1000的数据所对应的行号加上2存入列表。为什么要加2，是因为`range`函数是从0开始取的，然后工作表首行是字段名，第二行开始才是数据。如下结果显示了满足条件的数据对应的行数。"
   ]
  },
  {
   "cell_type": "code",
   "execution_count": 4,
   "metadata": {},
   "outputs": [
    {
     "data": {
      "text/plain": [
       "[317, 550, 551, 556, 557]"
      ]
     },
     "execution_count": 4,
     "metadata": {},
     "output_type": "execute_result"
    }
   ],
   "source": [
    "row_idx[:5]"
   ]
  },
  {
   "cell_type": "markdown",
   "metadata": {},
   "source": [
    " 然后新建列表`data_morethan1K`用于存储以上行号对应的整行数据。比如`ws['A1:I1']`就指第一行从A列到I列的所有单元格数据。最后将数据存入`data`字典中。数据结构如下所示。"
   ]
  },
  {
   "cell_type": "code",
   "execution_count": 5,
   "metadata": {},
   "outputs": [
    {
     "data": {
      "text/plain": [
       "((<Cell '12月'.A550>,\n",
       "  <Cell '12月'.B550>,\n",
       "  <Cell '12月'.C550>,\n",
       "  <Cell '12月'.D550>,\n",
       "  <Cell '12月'.E550>,\n",
       "  <Cell '12月'.F550>,\n",
       "  <Cell '12月'.G550>,\n",
       "  <Cell '12月'.H550>,\n",
       "  <Cell '12月'.I550>),)"
      ]
     },
     "execution_count": 5,
     "metadata": {},
     "output_type": "execute_result"
    }
   ],
   "source": [
    "data_morethan1K[1]"
   ]
  },
  {
   "cell_type": "code",
   "execution_count": 6,
   "metadata": {},
   "outputs": [
    {
     "data": {
      "text/plain": [
       "[((<Cell '1月'.A39>,\n",
       "   <Cell '1月'.B39>,\n",
       "   <Cell '1月'.C39>,\n",
       "   <Cell '1月'.D39>,\n",
       "   <Cell '1月'.E39>,\n",
       "   <Cell '1月'.F39>,\n",
       "   <Cell '1月'.G39>,\n",
       "   <Cell '1月'.H39>,\n",
       "   <Cell '1月'.I39>),),\n",
       " ((<Cell '1月'.A166>,\n",
       "   <Cell '1月'.B166>,\n",
       "   <Cell '1月'.C166>,\n",
       "   <Cell '1月'.D166>,\n",
       "   <Cell '1月'.E166>,\n",
       "   <Cell '1月'.F166>,\n",
       "   <Cell '1月'.G166>,\n",
       "   <Cell '1月'.H166>,\n",
       "   <Cell '1月'.I166>),),\n",
       " ((<Cell '1月'.A213>,\n",
       "   <Cell '1月'.B213>,\n",
       "   <Cell '1月'.C213>,\n",
       "   <Cell '1月'.D213>,\n",
       "   <Cell '1月'.E213>,\n",
       "   <Cell '1月'.F213>,\n",
       "   <Cell '1月'.G213>,\n",
       "   <Cell '1月'.H213>,\n",
       "   <Cell '1月'.I213>),),\n",
       " ((<Cell '1月'.A219>,\n",
       "   <Cell '1月'.B219>,\n",
       "   <Cell '1月'.C219>,\n",
       "   <Cell '1月'.D219>,\n",
       "   <Cell '1月'.E219>,\n",
       "   <Cell '1月'.F219>,\n",
       "   <Cell '1月'.G219>,\n",
       "   <Cell '1月'.H219>,\n",
       "   <Cell '1月'.I219>),),\n",
       " ((<Cell '1月'.A232>,\n",
       "   <Cell '1月'.B232>,\n",
       "   <Cell '1月'.C232>,\n",
       "   <Cell '1月'.D232>,\n",
       "   <Cell '1月'.E232>,\n",
       "   <Cell '1月'.F232>,\n",
       "   <Cell '1月'.G232>,\n",
       "   <Cell '1月'.H232>,\n",
       "   <Cell '1月'.I232>),),\n",
       " ((<Cell '1月'.A238>,\n",
       "   <Cell '1月'.B238>,\n",
       "   <Cell '1月'.C238>,\n",
       "   <Cell '1月'.D238>,\n",
       "   <Cell '1月'.E238>,\n",
       "   <Cell '1月'.F238>,\n",
       "   <Cell '1月'.G238>,\n",
       "   <Cell '1月'.H238>,\n",
       "   <Cell '1月'.I238>),),\n",
       " ((<Cell '1月'.A239>,\n",
       "   <Cell '1月'.B239>,\n",
       "   <Cell '1月'.C239>,\n",
       "   <Cell '1月'.D239>,\n",
       "   <Cell '1月'.E239>,\n",
       "   <Cell '1月'.F239>,\n",
       "   <Cell '1月'.G239>,\n",
       "   <Cell '1月'.H239>,\n",
       "   <Cell '1月'.I239>),),\n",
       " ((<Cell '1月'.A240>,\n",
       "   <Cell '1月'.B240>,\n",
       "   <Cell '1月'.C240>,\n",
       "   <Cell '1月'.D240>,\n",
       "   <Cell '1月'.E240>,\n",
       "   <Cell '1月'.F240>,\n",
       "   <Cell '1月'.G240>,\n",
       "   <Cell '1月'.H240>,\n",
       "   <Cell '1月'.I240>),),\n",
       " ((<Cell '1月'.A246>,\n",
       "   <Cell '1月'.B246>,\n",
       "   <Cell '1月'.C246>,\n",
       "   <Cell '1月'.D246>,\n",
       "   <Cell '1月'.E246>,\n",
       "   <Cell '1月'.F246>,\n",
       "   <Cell '1月'.G246>,\n",
       "   <Cell '1月'.H246>,\n",
       "   <Cell '1月'.I246>),),\n",
       " ((<Cell '1月'.A253>,\n",
       "   <Cell '1月'.B253>,\n",
       "   <Cell '1月'.C253>,\n",
       "   <Cell '1月'.D253>,\n",
       "   <Cell '1月'.E253>,\n",
       "   <Cell '1月'.F253>,\n",
       "   <Cell '1月'.G253>,\n",
       "   <Cell '1月'.H253>,\n",
       "   <Cell '1月'.I253>),),\n",
       " ((<Cell '1月'.A255>,\n",
       "   <Cell '1月'.B255>,\n",
       "   <Cell '1月'.C255>,\n",
       "   <Cell '1月'.D255>,\n",
       "   <Cell '1月'.E255>,\n",
       "   <Cell '1月'.F255>,\n",
       "   <Cell '1月'.G255>,\n",
       "   <Cell '1月'.H255>,\n",
       "   <Cell '1月'.I255>),),\n",
       " ((<Cell '1月'.A258>,\n",
       "   <Cell '1月'.B258>,\n",
       "   <Cell '1月'.C258>,\n",
       "   <Cell '1月'.D258>,\n",
       "   <Cell '1月'.E258>,\n",
       "   <Cell '1月'.F258>,\n",
       "   <Cell '1月'.G258>,\n",
       "   <Cell '1月'.H258>,\n",
       "   <Cell '1月'.I258>),),\n",
       " ((<Cell '1月'.A263>,\n",
       "   <Cell '1月'.B263>,\n",
       "   <Cell '1月'.C263>,\n",
       "   <Cell '1月'.D263>,\n",
       "   <Cell '1月'.E263>,\n",
       "   <Cell '1月'.F263>,\n",
       "   <Cell '1月'.G263>,\n",
       "   <Cell '1月'.H263>,\n",
       "   <Cell '1月'.I263>),),\n",
       " ((<Cell '1月'.A268>,\n",
       "   <Cell '1月'.B268>,\n",
       "   <Cell '1月'.C268>,\n",
       "   <Cell '1月'.D268>,\n",
       "   <Cell '1月'.E268>,\n",
       "   <Cell '1月'.F268>,\n",
       "   <Cell '1月'.G268>,\n",
       "   <Cell '1月'.H268>,\n",
       "   <Cell '1月'.I268>),),\n",
       " ((<Cell '1月'.A288>,\n",
       "   <Cell '1月'.B288>,\n",
       "   <Cell '1月'.C288>,\n",
       "   <Cell '1月'.D288>,\n",
       "   <Cell '1月'.E288>,\n",
       "   <Cell '1月'.F288>,\n",
       "   <Cell '1月'.G288>,\n",
       "   <Cell '1月'.H288>,\n",
       "   <Cell '1月'.I288>),),\n",
       " ((<Cell '1月'.A1555>,\n",
       "   <Cell '1月'.B1555>,\n",
       "   <Cell '1月'.C1555>,\n",
       "   <Cell '1月'.D1555>,\n",
       "   <Cell '1月'.E1555>,\n",
       "   <Cell '1月'.F1555>,\n",
       "   <Cell '1月'.G1555>,\n",
       "   <Cell '1月'.H1555>,\n",
       "   <Cell '1月'.I1555>),),\n",
       " ((<Cell '1月'.A1557>,\n",
       "   <Cell '1月'.B1557>,\n",
       "   <Cell '1月'.C1557>,\n",
       "   <Cell '1月'.D1557>,\n",
       "   <Cell '1月'.E1557>,\n",
       "   <Cell '1月'.F1557>,\n",
       "   <Cell '1月'.G1557>,\n",
       "   <Cell '1月'.H1557>,\n",
       "   <Cell '1月'.I1557>),),\n",
       " ((<Cell '1月'.A1559>,\n",
       "   <Cell '1月'.B1559>,\n",
       "   <Cell '1月'.C1559>,\n",
       "   <Cell '1月'.D1559>,\n",
       "   <Cell '1月'.E1559>,\n",
       "   <Cell '1月'.F1559>,\n",
       "   <Cell '1月'.G1559>,\n",
       "   <Cell '1月'.H1559>,\n",
       "   <Cell '1月'.I1559>),),\n",
       " ((<Cell '1月'.A1565>,\n",
       "   <Cell '1月'.B1565>,\n",
       "   <Cell '1月'.C1565>,\n",
       "   <Cell '1月'.D1565>,\n",
       "   <Cell '1月'.E1565>,\n",
       "   <Cell '1月'.F1565>,\n",
       "   <Cell '1月'.G1565>,\n",
       "   <Cell '1月'.H1565>,\n",
       "   <Cell '1月'.I1565>),),\n",
       " ((<Cell '1月'.A1601>,\n",
       "   <Cell '1月'.B1601>,\n",
       "   <Cell '1月'.C1601>,\n",
       "   <Cell '1月'.D1601>,\n",
       "   <Cell '1月'.E1601>,\n",
       "   <Cell '1月'.F1601>,\n",
       "   <Cell '1月'.G1601>,\n",
       "   <Cell '1月'.H1601>,\n",
       "   <Cell '1月'.I1601>),),\n",
       " ((<Cell '1月'.A1602>,\n",
       "   <Cell '1月'.B1602>,\n",
       "   <Cell '1月'.C1602>,\n",
       "   <Cell '1月'.D1602>,\n",
       "   <Cell '1月'.E1602>,\n",
       "   <Cell '1月'.F1602>,\n",
       "   <Cell '1月'.G1602>,\n",
       "   <Cell '1月'.H1602>,\n",
       "   <Cell '1月'.I1602>),),\n",
       " ((<Cell '1月'.A1608>,\n",
       "   <Cell '1月'.B1608>,\n",
       "   <Cell '1月'.C1608>,\n",
       "   <Cell '1月'.D1608>,\n",
       "   <Cell '1月'.E1608>,\n",
       "   <Cell '1月'.F1608>,\n",
       "   <Cell '1月'.G1608>,\n",
       "   <Cell '1月'.H1608>,\n",
       "   <Cell '1月'.I1608>),),\n",
       " ((<Cell '1月'.A1610>,\n",
       "   <Cell '1月'.B1610>,\n",
       "   <Cell '1月'.C1610>,\n",
       "   <Cell '1月'.D1610>,\n",
       "   <Cell '1月'.E1610>,\n",
       "   <Cell '1月'.F1610>,\n",
       "   <Cell '1月'.G1610>,\n",
       "   <Cell '1月'.H1610>,\n",
       "   <Cell '1月'.I1610>),),\n",
       " ((<Cell '1月'.A1788>,\n",
       "   <Cell '1月'.B1788>,\n",
       "   <Cell '1月'.C1788>,\n",
       "   <Cell '1月'.D1788>,\n",
       "   <Cell '1月'.E1788>,\n",
       "   <Cell '1月'.F1788>,\n",
       "   <Cell '1月'.G1788>,\n",
       "   <Cell '1月'.H1788>,\n",
       "   <Cell '1月'.I1788>),),\n",
       " ((<Cell '1月'.A1804>,\n",
       "   <Cell '1月'.B1804>,\n",
       "   <Cell '1月'.C1804>,\n",
       "   <Cell '1月'.D1804>,\n",
       "   <Cell '1月'.E1804>,\n",
       "   <Cell '1月'.F1804>,\n",
       "   <Cell '1月'.G1804>,\n",
       "   <Cell '1月'.H1804>,\n",
       "   <Cell '1月'.I1804>),),\n",
       " ((<Cell '1月'.A1812>,\n",
       "   <Cell '1月'.B1812>,\n",
       "   <Cell '1月'.C1812>,\n",
       "   <Cell '1月'.D1812>,\n",
       "   <Cell '1月'.E1812>,\n",
       "   <Cell '1月'.F1812>,\n",
       "   <Cell '1月'.G1812>,\n",
       "   <Cell '1月'.H1812>,\n",
       "   <Cell '1月'.I1812>),),\n",
       " ((<Cell '1月'.A2006>,\n",
       "   <Cell '1月'.B2006>,\n",
       "   <Cell '1月'.C2006>,\n",
       "   <Cell '1月'.D2006>,\n",
       "   <Cell '1月'.E2006>,\n",
       "   <Cell '1月'.F2006>,\n",
       "   <Cell '1月'.G2006>,\n",
       "   <Cell '1月'.H2006>,\n",
       "   <Cell '1月'.I2006>),),\n",
       " ((<Cell '1月'.A2007>,\n",
       "   <Cell '1月'.B2007>,\n",
       "   <Cell '1月'.C2007>,\n",
       "   <Cell '1月'.D2007>,\n",
       "   <Cell '1月'.E2007>,\n",
       "   <Cell '1月'.F2007>,\n",
       "   <Cell '1月'.G2007>,\n",
       "   <Cell '1月'.H2007>,\n",
       "   <Cell '1月'.I2007>),),\n",
       " ((<Cell '1月'.A2285>,\n",
       "   <Cell '1月'.B2285>,\n",
       "   <Cell '1月'.C2285>,\n",
       "   <Cell '1月'.D2285>,\n",
       "   <Cell '1月'.E2285>,\n",
       "   <Cell '1月'.F2285>,\n",
       "   <Cell '1月'.G2285>,\n",
       "   <Cell '1月'.H2285>,\n",
       "   <Cell '1月'.I2285>),),\n",
       " ((<Cell '1月'.A2289>,\n",
       "   <Cell '1月'.B2289>,\n",
       "   <Cell '1月'.C2289>,\n",
       "   <Cell '1月'.D2289>,\n",
       "   <Cell '1月'.E2289>,\n",
       "   <Cell '1月'.F2289>,\n",
       "   <Cell '1月'.G2289>,\n",
       "   <Cell '1月'.H2289>,\n",
       "   <Cell '1月'.I2289>),),\n",
       " ((<Cell '1月'.A2291>,\n",
       "   <Cell '1月'.B2291>,\n",
       "   <Cell '1月'.C2291>,\n",
       "   <Cell '1月'.D2291>,\n",
       "   <Cell '1月'.E2291>,\n",
       "   <Cell '1月'.F2291>,\n",
       "   <Cell '1月'.G2291>,\n",
       "   <Cell '1月'.H2291>,\n",
       "   <Cell '1月'.I2291>),),\n",
       " ((<Cell '1月'.A2292>,\n",
       "   <Cell '1月'.B2292>,\n",
       "   <Cell '1月'.C2292>,\n",
       "   <Cell '1月'.D2292>,\n",
       "   <Cell '1月'.E2292>,\n",
       "   <Cell '1月'.F2292>,\n",
       "   <Cell '1月'.G2292>,\n",
       "   <Cell '1月'.H2292>,\n",
       "   <Cell '1月'.I2292>),),\n",
       " ((<Cell '1月'.A2293>,\n",
       "   <Cell '1月'.B2293>,\n",
       "   <Cell '1月'.C2293>,\n",
       "   <Cell '1月'.D2293>,\n",
       "   <Cell '1月'.E2293>,\n",
       "   <Cell '1月'.F2293>,\n",
       "   <Cell '1月'.G2293>,\n",
       "   <Cell '1月'.H2293>,\n",
       "   <Cell '1月'.I2293>),),\n",
       " ((<Cell '1月'.A2300>,\n",
       "   <Cell '1月'.B2300>,\n",
       "   <Cell '1月'.C2300>,\n",
       "   <Cell '1月'.D2300>,\n",
       "   <Cell '1月'.E2300>,\n",
       "   <Cell '1月'.F2300>,\n",
       "   <Cell '1月'.G2300>,\n",
       "   <Cell '1月'.H2300>,\n",
       "   <Cell '1月'.I2300>),),\n",
       " ((<Cell '1月'.A2301>,\n",
       "   <Cell '1月'.B2301>,\n",
       "   <Cell '1月'.C2301>,\n",
       "   <Cell '1月'.D2301>,\n",
       "   <Cell '1月'.E2301>,\n",
       "   <Cell '1月'.F2301>,\n",
       "   <Cell '1月'.G2301>,\n",
       "   <Cell '1月'.H2301>,\n",
       "   <Cell '1月'.I2301>),),\n",
       " ((<Cell '1月'.A2305>,\n",
       "   <Cell '1月'.B2305>,\n",
       "   <Cell '1月'.C2305>,\n",
       "   <Cell '1月'.D2305>,\n",
       "   <Cell '1月'.E2305>,\n",
       "   <Cell '1月'.F2305>,\n",
       "   <Cell '1月'.G2305>,\n",
       "   <Cell '1月'.H2305>,\n",
       "   <Cell '1月'.I2305>),),\n",
       " ((<Cell '1月'.A2627>,\n",
       "   <Cell '1月'.B2627>,\n",
       "   <Cell '1月'.C2627>,\n",
       "   <Cell '1月'.D2627>,\n",
       "   <Cell '1月'.E2627>,\n",
       "   <Cell '1月'.F2627>,\n",
       "   <Cell '1月'.G2627>,\n",
       "   <Cell '1月'.H2627>,\n",
       "   <Cell '1月'.I2627>),),\n",
       " ((<Cell '1月'.A2641>,\n",
       "   <Cell '1月'.B2641>,\n",
       "   <Cell '1月'.C2641>,\n",
       "   <Cell '1月'.D2641>,\n",
       "   <Cell '1月'.E2641>,\n",
       "   <Cell '1月'.F2641>,\n",
       "   <Cell '1月'.G2641>,\n",
       "   <Cell '1月'.H2641>,\n",
       "   <Cell '1月'.I2641>),)]"
      ]
     },
     "execution_count": 6,
     "metadata": {},
     "output_type": "execute_result"
    }
   ],
   "source": [
    "data['1月']"
   ]
  },
  {
   "cell_type": "code",
   "execution_count": 7,
   "metadata": {},
   "outputs": [
    {
     "data": {
      "text/plain": [
       "38"
      ]
     },
     "execution_count": 7,
     "metadata": {},
     "output_type": "execute_result"
    }
   ],
   "source": [
    "len(data['1月'])"
   ]
  },
  {
   "cell_type": "code",
   "execution_count": 8,
   "metadata": {},
   "outputs": [
    {
     "data": {
      "text/plain": [
       "'A19X9239158'"
      ]
     },
     "execution_count": 8,
     "metadata": {},
     "output_type": "execute_result"
    }
   ],
   "source": [
    "data['1月'][0][0][1].value"
   ]
  },
  {
   "cell_type": "markdown",
   "metadata": {},
   "source": [
    "数据提取完成后，就可以开始写入数据了。打开模板，按月从`data`字典中提取数据。并根据数据结构找到层级关系，将其中的各行的数据写入各单元格。写完之后，设置一下字号、边框即对齐方式，保存数据。到此收工！"
   ]
  },
  {
   "cell_type": "code",
   "execution_count": 9,
   "metadata": {},
   "outputs": [],
   "source": [
    "#2.写入获取的数据\n",
    "from openpyxl.styles import Border, Side, PatternFill, Font, GradientFill, Alignment\n",
    "thin = Side(border_style=\"thin\", color=\"000000\")#定义边框粗细及颜色\n",
    "\n",
    "wb = load_workbook(\"模板.xlsx\")\n",
    "ws = wb.active\n",
    "for month in data.keys():\n",
    "    ws_new = wb.copy_worksheet(ws) #复制模板中的工作表\n",
    "    ws_new.title=month \n",
    "    #将每个月的数据条数逐个取出并写入新的工作表\n",
    "    for i in range(len(data[month])): #按数据行数计数，每行数据对应9列，所以每行需分别写入9个单元格\n",
    "        ws_new.cell(row=i+2,column=1).value=data[month][i][0][0].value\n",
    "        ws_new.cell(row=i+2,column=2).value=data[month][i][0][1].value\n",
    "        ws_new.cell(row=i+2,column=3).value=data[month][i][0][2].value\n",
    "        ws_new.cell(row=i+2,column=4).value=data[month][i][0][3].value.date()\n",
    "        ws_new.cell(row=i+2,column=5).value=data[month][i][0][4].value\n",
    "        ws_new.cell(row=i+2,column=6).value=data[month][i][0][5].value\n",
    "        ws_new.cell(row=i+2,column=7).value=data[month][i][0][6].value\n",
    "        ws_new.cell(row=i+2,column=8).value=data[month][i][0][7].value\n",
    "        ws_new.cell(row=i+2,column=9).value=data[month][i][0][8].value\n",
    "    \n",
    "    #设置字号，对齐，缩小字体填充，加边框\n",
    "    #Font(bold=True)可加粗字体\n",
    "\n",
    "    for row_number in range(2, ws_new.max_row+1):\n",
    "        for col_number in range(1,10):\n",
    "            c = ws_new.cell(row=row_number,column=col_number)\n",
    "            c.font = Font(size=10)\n",
    "            c.border = Border(top=thin, left=thin, right=thin, bottom=thin)\n",
    "            c.alignment = Alignment(horizontal=\"left\", vertical=\"center\",shrink_to_fit = True)\n",
    "wb.save(\"每月(大于1K).xlsx\")"
   ]
  },
  {
   "cell_type": "markdown",
   "metadata": {},
   "source": [
    " 华丽的结果如下：\n",
    " ![](images\\result.png)"
   ]
  }
 ],
 "metadata": {
  "kernelspec": {
   "display_name": "Python 3",
   "language": "python",
   "name": "python3"
  },
  "language_info": {
   "codemirror_mode": {
    "name": "ipython",
    "version": 3
   },
   "file_extension": ".py",
   "mimetype": "text/x-python",
   "name": "python",
   "nbconvert_exporter": "python",
   "pygments_lexer": "ipython3",
   "version": "3.7.1"
  }
 },
 "nbformat": 4,
 "nbformat_minor": 2
}
